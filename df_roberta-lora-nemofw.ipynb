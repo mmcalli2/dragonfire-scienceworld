{
 "cells": [
  {
   "cell_type": "markdown",
   "id": "a952a54c",
   "metadata": {},
   "source": [
    "# Finetuning a large language model to generate next best actions in a Text Adventure Game.\n",
    "###  This notebook finetunes a Llama 3.1-8b-Instruct model using a Lora Adaptor and SciWorld data."
   ]
  },
  {
   "cell_type": "markdown",
   "id": "63b3bd1c",
   "metadata": {},
   "source": [
    "This notebook showcases performing LoRA finetuning on **Llama 3.1-8B-Instruct** using the Sciworld dataset. It is derived from the tutorial posted at https://github.com/NVIDIA/NeMo/blob/main/tutorials/llm/llama-3/sdg-law-title-generation/llama3-sdg-lora-nemofw.ipynb which finetunes the Llama 3.1 8B Instruct model and has been been adapted to work with the DragonFire use case to explore current game state and generate the next recommended game action.  A tutorial for the original source notebook use law data is available at https://github.com/NVIDIA/NeMo/blob/main/tutorials/llm/llama-3/sdg-law-title-generation/README.rst.  \n",
    "\n",
    "We use the NVIDIA NeMo Framework which simplifies the pipeline to finetune the LLM.  We run the finetuning portion of the experiment inside the latest NeMo contained that we pulled from https://catalog.ngc.nvidia.com/orgs/nvidia/containers/nemo.  This container is publicly available and should be run on either a linux machine or windows with wsl. This can also be done in a cloud GPU instance. Sufficient memory, GPU, and resources should be available. We used a workstation with a NVIDIA A6000 GPU with 48gb of memory.  \n",
    "\n",
    "To replicate, the commands used: \n",
    "This command creates the directory to store code files  \n",
    "mkdir ~/nvdata  \n",
    "\n",
    "This command pulls and runs the NeMo container  \n",
    "docker run --gpus all --runtime=nvidia -it --rm -v --shm-size=16g -p 8888:8888 -p 6006:6006 \\    \n",
    " -v ~/nvdata:/workspace/nvdata \\  \n",
    "--ulimit memlock=-1 --ulimit stack=67108864 nvcr.io/nvidia/nemo:24.07    \n",
    "\n",
    "Once the container downloads are you are at the workspace prompt, within the container run:\n",
    "pip install ipywidgets  \n",
    "pip install scienceworld  \n",
    "jupyter-lab --allow-root --ip='0.0.0.0'  \n",
    "\n",
    "Now you can go to a browser and run this notebook.  \n",
    "\n",
    "For this demonstration, we will tune the model on the task of title/subject generation, that is, given a Law StackExchange forum question, auto-generate an appropriate title for it.\n"
   ]
  },
  {
   "cell_type": "code",
   "execution_count": 1,
   "id": "1cf3dc30",
   "metadata": {
    "tags": []
   },
   "outputs": [],
   "source": [
    "import os\n",
    "import json\n",
    "import numpy as np\n",
    "from rouge_score import rouge_scorer, scoring"
   ]
  },
  {
   "cell_type": "markdown",
   "id": "2b0bc64a-338c-47da-ac0d-25a1f72ea001",
   "metadata": {},
   "source": [
    "### Retrieve the SciWorld dataset\n",
    "We are finetuning the Llamamodel using the SciWorld Dataset.  Sciworld is an environment that contains multistep science tasks that is used to test out how well text based game and science agents can solve these tasts.  The environment is at https://github.com/allenai/ScienceWorld.   \n",
    "\n",
    "For this experiment, we are using a version of this dataset used by Calmworld-GPT2 located at https://github.com/cognitiveailab/calm-scienceworld/tree/master/data.  This is a CALM project adapted for SciWorld. The CALM Project is the implemented code for the paper and study, Keep CALM and Explore: Language Models for Action Generation in Text-based Games. The paper is available at https://arxiv.org/abs/2010.02903.  While the study focused on the GPT2 model, we are expanding to use Llama 3.1 7B Instruct and GPT4.  "
   ]
  },
  {
   "cell_type": "code",
   "execution_count": null,
   "id": "6a2a9e34-6862-43b9-965c-da76ce922ec5",
   "metadata": {},
   "outputs": [],
   "source": [
    "#if needed, create a data directory and pull in the formatted sciworld data\n",
    "#unzip the sciworld data and save to data directory\n",
    "!mkdir -p data\n",
    "!cd data && wget https://github.com/cognitiveailab/calm-scienceworld/blob/master/data/sciworld_formatted_data.zip\n",
    "!unzip data/sciworld_formatted_data.zip"
   ]
  },
  {
   "cell_type": "markdown",
   "id": "bb07997f-88b8-44dd-b3d0-648072888add",
   "metadata": {},
   "source": [
    "#### Preparing dataset\n",
    "Helper functions to clean up the data format it for fine-tuning  \n",
    "\n",
    "The convert_for_finetuning functions build the prompts and instruct the model on how to output the results of a query.  \n",
    "There are two different versions of the functions, one for Gpt4o and chat style LLMs and one for Llama and instruct style LLMs.  "
   ]
  },
  {
   "cell_type": "code",
   "execution_count": 2,
   "id": "e247fa4b-07ff-4092-a5fc-321610259e11",
   "metadata": {
    "tags": []
   },
   "outputs": [],
   "source": [
    "import json\n",
    "import pandas as pd\n",
    "\n",
    "def write_jsonl(fname, json_objs):\n",
    "    with open(fname, 'wt') as f:\n",
    "        for o in json_objs:\n",
    "            f.write(json.dumps(o)+\"\\n\")\n",
    "\n",
    "#parse json file into list for exploration\n",
    "def load_jsonl(file_path):\n",
    "    data = []\n",
    "    with open(file_path, 'r') as file:\n",
    "        for line in file:\n",
    "            data.append(json.loads(line))\n",
    "    return data\n",
    "\n",
    "#used for llama instruct style models\n",
    "def convert_for_finetuning(json_filename,output_path):\n",
    "    sci_data = load_jsonl(json_filename)\n",
    "    json_objs = []\n",
    "    prompt='''Generate the next action towards solving a task for the following observations in an interactive fiction game. The action should be the optimal action.'''\n",
    "    for item in sci_data:\n",
    "        #data={}\n",
    "        #item_input =item['input']\n",
    "        #item_output = item['target']\n",
    "        #prompt = item_input\n",
    "        #completion = item_output\n",
    "        data = { \"input\": f'''{prompt} {item[\"input\"]} \\nAction: ''',\n",
    "                \"output\": item['target'] }\n",
    "       \n",
    "        #data['input'] = {item_input}\n",
    "        #data['output'] = {item_output}\n",
    "        json_objs.append(data)\n",
    "    write_jsonl(output_path,json_objs)\n",
    "    return json_objs\n",
    "\n",
    "#used for GPT chat style models\n",
    "def convert_for_gpt_finetuning(json_filename, output_path):\n",
    "    sci_data = load_jsonl(json_filename)\n",
    "    system_message = \"You are trying to solve a task in an interactive fiction game. You will be provided with the task \" \\\n",
    "    \"and observations about your location such as the room and items. You must decide what is recommended next action\" \\\n",
    "    \"to help complete the task given the observations. You will respond with just the action.\" \n",
    "    json_objs = []\n",
    "    for item in sci_data:\n",
    "        data={}\n",
    "        item_input = item['input']\n",
    "        item_output = item['target']\n",
    "        prompt = [{\"role\": \"system\",\"content\": system_message},{\"role\": \"user\",\"content\": item_input},{\"role\":\"assistant\",\"content\":item_output}]\n",
    "        data['messages'] = prompt\n",
    "        json_objs.append(data)\n",
    "    #sdf = pd.DataFrame(json_objs)\n",
    "    write_jsonl(output_path,json_objs)\n",
    "    return json_objs"
   ]
  },
  {
   "cell_type": "code",
   "execution_count": 3,
   "id": "81e34d31-546a-4de4-a3de-b1dd6b6da0c4",
   "metadata": {
    "tags": []
   },
   "outputs": [],
   "source": [
    "#function takes in pandas df with input and output datasets and converts to multichoice format for RoBERTa model training\n",
    "def convert_to_multichoice(df):\n",
    "    \n",
    "    df = pd.DataFrame(df)\n",
    "\n",
    "    # Create a new dataframe with the multichoice format\n",
    "    df_multichoice = pd.DataFrame(columns=['sent2', 'ending0', 'ending1', 'ending2', 'ending3', 'label'])\n",
    "\n",
    "    # Loop through the original dataset\n",
    "    for index, row in df.iterrows():\n",
    "        # Set the value of sent2 to the input value\n",
    "        sent2 = row['input']\n",
    "\n",
    "        # Randomly select three outputs from the entire output column\n",
    "        outputs = df['output'].sample(n=3, replace=False).tolist()\n",
    "\n",
    "        # Add the actual ground truth output to the list\n",
    "        outputs.append(row['output'])\n",
    "\n",
    "        # Shuffle the list to randomize the position of the ground truth output\n",
    "        np.random.shuffle(outputs)\n",
    "\n",
    "        # Create a new row for the multichoice dataframe\n",
    "        new_row = {\n",
    "            'sent2': sent2,\n",
    "            'ending0': outputs[0],\n",
    "            'ending1': outputs[1],\n",
    "            'ending2': outputs[2],\n",
    "            'ending3': outputs[3],\n",
    "            'label': outputs.index(row['output'])\n",
    "        }\n",
    "\n",
    "        # Append the new row to the multichoice dataframe\n",
    "        df_multichoice = df_multichoice._append(new_row, ignore_index=True)\n",
    "    return df_multichoice"
   ]
  },
  {
   "cell_type": "code",
   "execution_count": null,
   "id": "9a6fb363-8d85-4a44-ad8f-4b03bcd76b24",
   "metadata": {},
   "outputs": [],
   "source": [
    "test_dataset = Dataset.from_pandas(test_data)"
   ]
  },
  {
   "cell_type": "code",
   "execution_count": null,
   "id": "cd0758c5-48b7-4b19-9cfa-3eb088ff8542",
   "metadata": {},
   "outputs": [],
   "source": [
    "test_json_objs = to_multichoice(\"./data/sciworld_test1_set.jsonl\",\"data/sciworld_test1_rset.jsonl\")\n",
    "type(test_json_objs)"
   ]
  },
  {
   "cell_type": "code",
   "execution_count": 10,
   "id": "4210c45f-e660-4641-8ca8-8aa174397710",
   "metadata": {
    "tags": []
   },
   "outputs": [
    {
     "data": {
      "application/vnd.jupyter.widget-view+json": {
       "model_id": "c25facb916644f888b95e15ea2458943",
       "version_major": 2,
       "version_minor": 0
      },
      "text/plain": [
       "Generating train split: 0 examples [00:00, ? examples/s]"
      ]
     },
     "metadata": {},
     "output_type": "display_data"
    }
   ],
   "source": [
    "from datasets import load_dataset\n",
    "dataset = load_dataset('json', data_files='data/sciworld_test1_set.jsonl')\n"
   ]
  },
  {
   "cell_type": "code",
   "execution_count": 13,
   "id": "27545c6b-4b3c-4c98-898e-609721470be8",
   "metadata": {
    "tags": []
   },
   "outputs": [],
   "source": [
    "train_dataset = dataset['train']"
   ]
  },
  {
   "cell_type": "code",
   "execution_count": null,
   "id": "fb591365-b81c-4d6d-8106-07e53438bf6e",
   "metadata": {},
   "outputs": [],
   "source": [
    "from datasets import load_dataset\n",
    "dataset = load_dataset('json', data_files='data/sciworld_train1_set.jsonl')\n"
   ]
  },
  {
   "cell_type": "code",
   "execution_count": 14,
   "id": "33a9bc10-21e6-4156-bfa1-565837a3d9f1",
   "metadata": {
    "tags": []
   },
   "outputs": [
    {
     "data": {
      "text/html": [
       "<div>\n",
       "<style scoped>\n",
       "    .dataframe tbody tr th:only-of-type {\n",
       "        vertical-align: middle;\n",
       "    }\n",
       "\n",
       "    .dataframe tbody tr th {\n",
       "        vertical-align: top;\n",
       "    }\n",
       "\n",
       "    .dataframe thead th {\n",
       "        text-align: right;\n",
       "    }\n",
       "</style>\n",
       "<table border=\"1\" class=\"dataframe\">\n",
       "  <thead>\n",
       "    <tr style=\"text-align: right;\">\n",
       "      <th></th>\n",
       "      <th>input</th>\n",
       "      <th>output</th>\n",
       "    </tr>\n",
       "  </thead>\n",
       "  <tbody>\n",
       "    <tr>\n",
       "      <th>0</th>\n",
       "      <td>Generate the next action towards solving a tas...</td>\n",
       "      <td>open door to kitchen [SEP]</td>\n",
       "    </tr>\n",
       "    <tr>\n",
       "      <th>1</th>\n",
       "      <td>Generate the next action towards solving a tas...</td>\n",
       "      <td>go to kitchen [SEP]</td>\n",
       "    </tr>\n",
       "    <tr>\n",
       "      <th>2</th>\n",
       "      <td>Generate the next action towards solving a tas...</td>\n",
       "      <td>pick up thermometer [SEP]</td>\n",
       "    </tr>\n",
       "    <tr>\n",
       "      <th>3</th>\n",
       "      <td>Generate the next action towards solving a tas...</td>\n",
       "      <td>open cupboard [SEP]</td>\n",
       "    </tr>\n",
       "    <tr>\n",
       "      <th>4</th>\n",
       "      <td>Generate the next action towards solving a tas...</td>\n",
       "      <td>pick up metal pot [SEP]</td>\n",
       "    </tr>\n",
       "  </tbody>\n",
       "</table>\n",
       "</div>"
      ],
      "text/plain": [
       "                                               input  \\\n",
       "0  Generate the next action towards solving a tas...   \n",
       "1  Generate the next action towards solving a tas...   \n",
       "2  Generate the next action towards solving a tas...   \n",
       "3  Generate the next action towards solving a tas...   \n",
       "4  Generate the next action towards solving a tas...   \n",
       "\n",
       "                       output  \n",
       "0  open door to kitchen [SEP]  \n",
       "1         go to kitchen [SEP]  \n",
       "2   pick up thermometer [SEP]  \n",
       "3         open cupboard [SEP]  \n",
       "4     pick up metal pot [SEP]  "
      ]
     },
     "execution_count": 14,
     "metadata": {},
     "output_type": "execute_result"
    }
   ],
   "source": [
    "test_df = pd.DataFrame(train_dataset)\n",
    "test_df.head()"
   ]
  },
  {
   "cell_type": "code",
   "execution_count": 16,
   "id": "ea4038bd-f990-4b8c-8f1c-2c77267f6d43",
   "metadata": {
    "tags": []
   },
   "outputs": [
    {
     "name": "stdout",
     "output_type": "stream",
     "text": [
      "                                               sent2  \\\n",
      "0  Generate the next action towards solving a tas...   \n",
      "1  Generate the next action towards solving a tas...   \n",
      "2  Generate the next action towards solving a tas...   \n",
      "3  Generate the next action towards solving a tas...   \n",
      "4  Generate the next action towards solving a tas...   \n",
      "\n",
      "                                             ending0  \\\n",
      "0               examine stopwatch in inventory [SEP]   \n",
      "1                                go to kitchen [SEP]   \n",
      "2  look at inclined plane with a rubber surface [...   \n",
      "3  look at inclined plane with a steel surface [SEP]   \n",
      "4  look at inclined plane with a plastic surface ...   \n",
      "\n",
      "                                             ending1  \\\n",
      "0                         open door to kitchen [SEP]   \n",
      "1                         open door to outside [SEP]   \n",
      "2                   pour jug into flower pot 2 [SEP]   \n",
      "3                                open cupboard [SEP]   \n",
      "4  look at inclined plane with a sandpaper surfac...   \n",
      "\n",
      "                                             ending2  \\\n",
      "0  look at inclined plane with a sandpaper surfac...   \n",
      "1  move egg crocodile egg in inventory to orange ...   \n",
      "2                                open cupboard [SEP]   \n",
      "3  look at inclined plane with a sandpaper surfac...   \n",
      "4  look at inclined plane with a brass surface [SEP]   \n",
      "\n",
      "                                             ending3 label  \n",
      "0  connect battery anode to orange wire terminal ...     1  \n",
      "1  look at inclined plane with a sandpaper surfac...     0  \n",
      "2                          pick up thermometer [SEP]     3  \n",
      "3  look at inclined plane with a sandpaper surfac...     1  \n",
      "4                            pick up metal pot [SEP]     3  \n"
     ]
    }
   ],
   "source": [
    "df_mc = convert_to_multichoice(test_df)\n",
    "print(df_mc.head())\n",
    "df_mc.to_json('data/sciworld_mc.jsonl')"
   ]
  },
  {
   "cell_type": "code",
   "execution_count": 17,
   "id": "07fee89c-e83a-420e-9e27-2aee17643724",
   "metadata": {
    "tags": []
   },
   "outputs": [
    {
     "data": {
      "application/vnd.jupyter.widget-view+json": {
       "model_id": "88ae65cff2ad477abfb5ac17d6d9ddee",
       "version_major": 2,
       "version_minor": 0
      },
      "text/plain": [
       "Generating train split: 0 examples [00:00, ? examples/s]"
      ]
     },
     "metadata": {},
     "output_type": "display_data"
    }
   ],
   "source": [
    "tr_dataset = load_dataset('json', data_files='data/sciworld_train1_set.jsonl')\n",
    "train_dataset = tr_dataset['train']\n",
    "train_df = pd.DataFrame(train_dataset)\n",
    "df_train_mc = convert_to_multichoice(train_df)"
   ]
  },
  {
   "cell_type": "code",
   "execution_count": 20,
   "id": "b393990b-63ae-4507-8663-75c5911ddc35",
   "metadata": {
    "tags": []
   },
   "outputs": [
    {
     "data": {
      "text/html": [
       "<div>\n",
       "<style scoped>\n",
       "    .dataframe tbody tr th:only-of-type {\n",
       "        vertical-align: middle;\n",
       "    }\n",
       "\n",
       "    .dataframe tbody tr th {\n",
       "        vertical-align: top;\n",
       "    }\n",
       "\n",
       "    .dataframe thead th {\n",
       "        text-align: right;\n",
       "    }\n",
       "</style>\n",
       "<table border=\"1\" class=\"dataframe\">\n",
       "  <thead>\n",
       "    <tr style=\"text-align: right;\">\n",
       "      <th></th>\n",
       "      <th>sent2</th>\n",
       "      <th>ending0</th>\n",
       "      <th>ending1</th>\n",
       "      <th>ending2</th>\n",
       "      <th>ending3</th>\n",
       "      <th>label</th>\n",
       "    </tr>\n",
       "  </thead>\n",
       "  <tbody>\n",
       "    <tr>\n",
       "      <th>0</th>\n",
       "      <td>Generate the next action towards solving a tas...</td>\n",
       "      <td>connect unknown substance F terminal 2 to blac...</td>\n",
       "      <td>open door to kitchen [SEP]</td>\n",
       "      <td>focus on inclined plane with a ceramic surface...</td>\n",
       "      <td>look at inclined plane with a rubber surface [...</td>\n",
       "      <td>1</td>\n",
       "    </tr>\n",
       "    <tr>\n",
       "      <th>1</th>\n",
       "      <td>Generate the next action towards solving a tas...</td>\n",
       "      <td>go to kitchen [SEP]</td>\n",
       "      <td>focus on inclined plane with a brass surface [...</td>\n",
       "      <td>pour jug into flower pot 7 [SEP]</td>\n",
       "      <td>go to outside [SEP]</td>\n",
       "      <td>0</td>\n",
       "    </tr>\n",
       "    <tr>\n",
       "      <th>2</th>\n",
       "      <td>Generate the next action towards solving a tas...</td>\n",
       "      <td>pick up thermometer [SEP]</td>\n",
       "      <td>deactivate sink [SEP]</td>\n",
       "      <td>go to kitchen [SEP]</td>\n",
       "      <td>move jug to sink [SEP]</td>\n",
       "      <td>0</td>\n",
       "    </tr>\n",
       "    <tr>\n",
       "      <th>3</th>\n",
       "      <td>Generate the next action towards solving a tas...</td>\n",
       "      <td>look at inclined plane with a sandpaper surfac...</td>\n",
       "      <td>look at inclined plane with a chocolate surfac...</td>\n",
       "      <td>open cupboard [SEP]</td>\n",
       "      <td>connect green wire terminal 2 to cathode in re...</td>\n",
       "      <td>2</td>\n",
       "    </tr>\n",
       "    <tr>\n",
       "      <th>4</th>\n",
       "      <td>Generate the next action towards solving a tas...</td>\n",
       "      <td>pick up metal pot [SEP]</td>\n",
       "      <td>look at inclined plane with a platinum surface...</td>\n",
       "      <td>look at inclined plane with a sandpaper surfac...</td>\n",
       "      <td>look at inclined plane with a rubber surface [...</td>\n",
       "      <td>0</td>\n",
       "    </tr>\n",
       "  </tbody>\n",
       "</table>\n",
       "</div>"
      ],
      "text/plain": [
       "                                               sent2  \\\n",
       "0  Generate the next action towards solving a tas...   \n",
       "1  Generate the next action towards solving a tas...   \n",
       "2  Generate the next action towards solving a tas...   \n",
       "3  Generate the next action towards solving a tas...   \n",
       "4  Generate the next action towards solving a tas...   \n",
       "\n",
       "                                             ending0  \\\n",
       "0  connect unknown substance F terminal 2 to blac...   \n",
       "1                                go to kitchen [SEP]   \n",
       "2                          pick up thermometer [SEP]   \n",
       "3  look at inclined plane with a sandpaper surfac...   \n",
       "4                            pick up metal pot [SEP]   \n",
       "\n",
       "                                             ending1  \\\n",
       "0                         open door to kitchen [SEP]   \n",
       "1  focus on inclined plane with a brass surface [...   \n",
       "2                              deactivate sink [SEP]   \n",
       "3  look at inclined plane with a chocolate surfac...   \n",
       "4  look at inclined plane with a platinum surface...   \n",
       "\n",
       "                                             ending2  \\\n",
       "0  focus on inclined plane with a ceramic surface...   \n",
       "1                   pour jug into flower pot 7 [SEP]   \n",
       "2                                go to kitchen [SEP]   \n",
       "3                                open cupboard [SEP]   \n",
       "4  look at inclined plane with a sandpaper surfac...   \n",
       "\n",
       "                                             ending3 label  \n",
       "0  look at inclined plane with a rubber surface [...     1  \n",
       "1                                go to outside [SEP]     0  \n",
       "2                             move jug to sink [SEP]     0  \n",
       "3  connect green wire terminal 2 to cathode in re...     2  \n",
       "4  look at inclined plane with a rubber surface [...     0  "
      ]
     },
     "execution_count": 20,
     "metadata": {},
     "output_type": "execute_result"
    }
   ],
   "source": [
    "df_train_mc.head()"
   ]
  },
  {
   "cell_type": "code",
   "execution_count": 18,
   "id": "9886cae2-cb52-4e06-9c05-ba6851b0cdfa",
   "metadata": {
    "tags": []
   },
   "outputs": [
    {
     "data": {
      "application/vnd.jupyter.widget-view+json": {
       "model_id": "dcd842dcd64443209afb857e62709379",
       "version_major": 2,
       "version_minor": 0
      },
      "text/plain": [
       "Generating train split: 0 examples [00:00, ? examples/s]"
      ]
     },
     "metadata": {},
     "output_type": "display_data"
    }
   ],
   "source": [
    "v_dataset = load_dataset('json', data_files='data/sciworld_val1_set.jsonl')\n",
    "val_dataset = v_dataset['train']\n",
    "val_df = pd.DataFrame(val_dataset)\n",
    "val_train_mc = convert_to_multichoice(val_df)"
   ]
  },
  {
   "cell_type": "code",
   "execution_count": 48,
   "id": "c1945567-fa2f-41e3-a2ca-5987adf3c16a",
   "metadata": {
    "tags": []
   },
   "outputs": [
    {
     "data": {
      "text/plain": [
       "(92610, 11)"
      ]
     },
     "execution_count": 48,
     "metadata": {},
     "output_type": "execute_result"
    }
   ],
   "source": [
    "val_train_mc.shape"
   ]
  },
  {
   "cell_type": "code",
   "execution_count": 49,
   "id": "2cdb8542-e408-46be-acb7-630e96b4d241",
   "metadata": {
    "tags": []
   },
   "outputs": [
    {
     "data": {
      "text/plain": [
       "(202760, 11)"
      ]
     },
     "execution_count": 49,
     "metadata": {},
     "output_type": "execute_result"
    }
   ],
   "source": [
    "df_train_mc.shape"
   ]
  },
  {
   "cell_type": "code",
   "execution_count": 43,
   "id": "c63caace-f26d-40aa-a3c2-f83b8388e6f6",
   "metadata": {
    "tags": []
   },
   "outputs": [],
   "source": [
    "#now lets process all the data files to generate datasets for finetuning\n",
    "test_json_objs = convert_for_finetuning(\"./data/sciworld_formatted_test.jsonl\", \"data/sciworld_test1_set.jsonl\")\n",
    "train_json_objs = convert_for_finetuning(\"./data/sciworld_formatted_train.jsonl\", \"data/sciworld_train1_set.jsonl\")\n",
    "dev_json_objs = convert_for_finetuning(\"./data/sciworld_formatted_val.jsonl\", \"data/sciworld_val1_set.jsonl\")"
   ]
  },
  {
   "cell_type": "code",
   "execution_count": 12,
   "id": "8492edc1",
   "metadata": {
    "tags": []
   },
   "outputs": [
    {
     "name": "stdout",
     "output_type": "stream",
     "text": [
      "sciworld_formatted_test.jsonl\tsciworld_train_set.jsonl.idx.info\n",
      "sciworld_formatted_train.jsonl\tsciworld_train_set.jsonl.idx.npy\n",
      "sciworld_formatted_val.jsonl\tsciworld_val_set.jsonl\n",
      "sciworld_test_set.jsonl\t\tsciworld_val_set.jsonl.idx.info\n",
      "sciworld_train_set.jsonl\tsciworld_val_set.jsonl.idx.npy\n"
     ]
    }
   ],
   "source": [
    "DATA_DIR = os.path.join(\"data\")\n",
    "\n",
    "!ls {DATA_DIR}"
   ]
  },
  {
   "cell_type": "code",
   "execution_count": 44,
   "id": "63b061f4",
   "metadata": {
    "tags": []
   },
   "outputs": [],
   "source": [
    "TRAIN_DS = os.path.join(DATA_DIR, \"sciworld_train1_set.jsonl\")\n",
    "VAL_DS = os.path.join(DATA_DIR, \"sciworld_val1_set.jsonl\")\n",
    "TEST_DS = os.path.join(DATA_DIR, \"sciworld_test1_set.jsonl\")"
   ]
  },
  {
   "cell_type": "code",
   "execution_count": null,
   "id": "7da41e80-7b42-4062-b957-8ab5b09c4172",
   "metadata": {},
   "outputs": [],
   "source": [
    "#these are extra columns in multichoice data, not sure if I need them\n",
    "#videoid = 'xxx'\n",
    "#fold_ind = index\n",
    "#startphrase = 'xxx'\n",
    "#sent1 = 'xxx'\n",
    "#goldsource = 'xxx'\n"
   ]
  },
  {
   "cell_type": "code",
   "execution_count": 42,
   "id": "34ac3043-0700-499f-b413-3b74863d5940",
   "metadata": {
    "tags": []
   },
   "outputs": [
    {
     "data": {
      "text/html": [
       "<div>\n",
       "<style scoped>\n",
       "    .dataframe tbody tr th:only-of-type {\n",
       "        vertical-align: middle;\n",
       "    }\n",
       "\n",
       "    .dataframe tbody tr th {\n",
       "        vertical-align: top;\n",
       "    }\n",
       "\n",
       "    .dataframe thead th {\n",
       "        text-align: right;\n",
       "    }\n",
       "</style>\n",
       "<table border=\"1\" class=\"dataframe\">\n",
       "  <thead>\n",
       "    <tr style=\"text-align: right;\">\n",
       "      <th></th>\n",
       "      <th>sent2</th>\n",
       "      <th>ending0</th>\n",
       "      <th>ending1</th>\n",
       "      <th>ending2</th>\n",
       "      <th>ending3</th>\n",
       "      <th>label</th>\n",
       "      <th>videoid</th>\n",
       "      <th>startphrase</th>\n",
       "      <th>sent1</th>\n",
       "      <th>goldsource</th>\n",
       "      <th>fold_ind</th>\n",
       "    </tr>\n",
       "  </thead>\n",
       "  <tbody>\n",
       "    <tr>\n",
       "      <th>0</th>\n",
       "      <td>Generate the next action towards solving a tas...</td>\n",
       "      <td>examine stopwatch in inventory [SEP]</td>\n",
       "      <td>open door to kitchen [SEP]</td>\n",
       "      <td>look at inclined plane with a sandpaper surfac...</td>\n",
       "      <td>connect battery anode to orange wire terminal ...</td>\n",
       "      <td>1</td>\n",
       "      <td>xxx</td>\n",
       "      <td>xxx</td>\n",
       "      <td>xxx</td>\n",
       "      <td>xxx</td>\n",
       "      <td>0</td>\n",
       "    </tr>\n",
       "    <tr>\n",
       "      <th>1</th>\n",
       "      <td>Generate the next action towards solving a tas...</td>\n",
       "      <td>go to kitchen [SEP]</td>\n",
       "      <td>open door to outside [SEP]</td>\n",
       "      <td>move egg crocodile egg in inventory to orange ...</td>\n",
       "      <td>look at inclined plane with a sandpaper surfac...</td>\n",
       "      <td>0</td>\n",
       "      <td>xxx</td>\n",
       "      <td>xxx</td>\n",
       "      <td>xxx</td>\n",
       "      <td>xxx</td>\n",
       "      <td>1</td>\n",
       "    </tr>\n",
       "    <tr>\n",
       "      <th>2</th>\n",
       "      <td>Generate the next action towards solving a tas...</td>\n",
       "      <td>look at inclined plane with a rubber surface [...</td>\n",
       "      <td>pour jug into flower pot 2 [SEP]</td>\n",
       "      <td>open cupboard [SEP]</td>\n",
       "      <td>pick up thermometer [SEP]</td>\n",
       "      <td>3</td>\n",
       "      <td>xxx</td>\n",
       "      <td>xxx</td>\n",
       "      <td>xxx</td>\n",
       "      <td>xxx</td>\n",
       "      <td>2</td>\n",
       "    </tr>\n",
       "    <tr>\n",
       "      <th>3</th>\n",
       "      <td>Generate the next action towards solving a tas...</td>\n",
       "      <td>look at inclined plane with a steel surface [SEP]</td>\n",
       "      <td>open cupboard [SEP]</td>\n",
       "      <td>look at inclined plane with a sandpaper surfac...</td>\n",
       "      <td>look at inclined plane with a sandpaper surfac...</td>\n",
       "      <td>1</td>\n",
       "      <td>xxx</td>\n",
       "      <td>xxx</td>\n",
       "      <td>xxx</td>\n",
       "      <td>xxx</td>\n",
       "      <td>3</td>\n",
       "    </tr>\n",
       "    <tr>\n",
       "      <th>4</th>\n",
       "      <td>Generate the next action towards solving a tas...</td>\n",
       "      <td>look at inclined plane with a plastic surface ...</td>\n",
       "      <td>look at inclined plane with a sandpaper surfac...</td>\n",
       "      <td>look at inclined plane with a brass surface [SEP]</td>\n",
       "      <td>pick up metal pot [SEP]</td>\n",
       "      <td>3</td>\n",
       "      <td>xxx</td>\n",
       "      <td>xxx</td>\n",
       "      <td>xxx</td>\n",
       "      <td>xxx</td>\n",
       "      <td>4</td>\n",
       "    </tr>\n",
       "  </tbody>\n",
       "</table>\n",
       "</div>"
      ],
      "text/plain": [
       "                                               sent2  \\\n",
       "0  Generate the next action towards solving a tas...   \n",
       "1  Generate the next action towards solving a tas...   \n",
       "2  Generate the next action towards solving a tas...   \n",
       "3  Generate the next action towards solving a tas...   \n",
       "4  Generate the next action towards solving a tas...   \n",
       "\n",
       "                                             ending0  \\\n",
       "0               examine stopwatch in inventory [SEP]   \n",
       "1                                go to kitchen [SEP]   \n",
       "2  look at inclined plane with a rubber surface [...   \n",
       "3  look at inclined plane with a steel surface [SEP]   \n",
       "4  look at inclined plane with a plastic surface ...   \n",
       "\n",
       "                                             ending1  \\\n",
       "0                         open door to kitchen [SEP]   \n",
       "1                         open door to outside [SEP]   \n",
       "2                   pour jug into flower pot 2 [SEP]   \n",
       "3                                open cupboard [SEP]   \n",
       "4  look at inclined plane with a sandpaper surfac...   \n",
       "\n",
       "                                             ending2  \\\n",
       "0  look at inclined plane with a sandpaper surfac...   \n",
       "1  move egg crocodile egg in inventory to orange ...   \n",
       "2                                open cupboard [SEP]   \n",
       "3  look at inclined plane with a sandpaper surfac...   \n",
       "4  look at inclined plane with a brass surface [SEP]   \n",
       "\n",
       "                                             ending3 label videoid  \\\n",
       "0  connect battery anode to orange wire terminal ...     1     xxx   \n",
       "1  look at inclined plane with a sandpaper surfac...     0     xxx   \n",
       "2                          pick up thermometer [SEP]     3     xxx   \n",
       "3  look at inclined plane with a sandpaper surfac...     1     xxx   \n",
       "4                            pick up metal pot [SEP]     3     xxx   \n",
       "\n",
       "  startphrase sent1 goldsource  fold_ind  \n",
       "0         xxx   xxx        xxx         0  \n",
       "1         xxx   xxx        xxx         1  \n",
       "2         xxx   xxx        xxx         2  \n",
       "3         xxx   xxx        xxx         3  \n",
       "4         xxx   xxx        xxx         4  "
      ]
     },
     "execution_count": 42,
     "metadata": {},
     "output_type": "execute_result"
    }
   ],
   "source": [
    "dftest = df_mc\n",
    "dftest.head()"
   ]
  },
  {
   "cell_type": "code",
   "execution_count": 36,
   "id": "54fb6849-6b90-4009-932a-52f803d59aea",
   "metadata": {
    "tags": []
   },
   "outputs": [
    {
     "data": {
      "text/plain": [
       "(133628, 6)"
      ]
     },
     "execution_count": 36,
     "metadata": {},
     "output_type": "execute_result"
    }
   ],
   "source": [
    "dftest.shape"
   ]
  },
  {
   "cell_type": "code",
   "execution_count": 43,
   "id": "5b3c599c-c1b3-491b-ba06-789d3474a5f2",
   "metadata": {
    "tags": []
   },
   "outputs": [
    {
     "data": {
      "text/html": [
       "<div>\n",
       "<style scoped>\n",
       "    .dataframe tbody tr th:only-of-type {\n",
       "        vertical-align: middle;\n",
       "    }\n",
       "\n",
       "    .dataframe tbody tr th {\n",
       "        vertical-align: top;\n",
       "    }\n",
       "\n",
       "    .dataframe thead th {\n",
       "        text-align: right;\n",
       "    }\n",
       "</style>\n",
       "<table border=\"1\" class=\"dataframe\">\n",
       "  <thead>\n",
       "    <tr style=\"text-align: right;\">\n",
       "      <th></th>\n",
       "      <th>sent2</th>\n",
       "      <th>ending0</th>\n",
       "      <th>ending1</th>\n",
       "      <th>ending2</th>\n",
       "      <th>ending3</th>\n",
       "      <th>label</th>\n",
       "      <th>videoid</th>\n",
       "      <th>startphrase</th>\n",
       "      <th>sent1</th>\n",
       "      <th>goldsource</th>\n",
       "      <th>fold_ind</th>\n",
       "      <th>gold-source</th>\n",
       "    </tr>\n",
       "  </thead>\n",
       "  <tbody>\n",
       "    <tr>\n",
       "      <th>0</th>\n",
       "      <td>Generate the next action towards solving a tas...</td>\n",
       "      <td>examine stopwatch in inventory [SEP]</td>\n",
       "      <td>open door to kitchen [SEP]</td>\n",
       "      <td>look at inclined plane with a sandpaper surfac...</td>\n",
       "      <td>connect battery anode to orange wire terminal ...</td>\n",
       "      <td>1</td>\n",
       "      <td>xxx</td>\n",
       "      <td>xxx</td>\n",
       "      <td>xxx</td>\n",
       "      <td>xxx</td>\n",
       "      <td>0</td>\n",
       "      <td>xxx</td>\n",
       "    </tr>\n",
       "    <tr>\n",
       "      <th>1</th>\n",
       "      <td>Generate the next action towards solving a tas...</td>\n",
       "      <td>go to kitchen [SEP]</td>\n",
       "      <td>open door to outside [SEP]</td>\n",
       "      <td>move egg crocodile egg in inventory to orange ...</td>\n",
       "      <td>look at inclined plane with a sandpaper surfac...</td>\n",
       "      <td>0</td>\n",
       "      <td>xxx</td>\n",
       "      <td>xxx</td>\n",
       "      <td>xxx</td>\n",
       "      <td>xxx</td>\n",
       "      <td>1</td>\n",
       "      <td>xxx</td>\n",
       "    </tr>\n",
       "    <tr>\n",
       "      <th>2</th>\n",
       "      <td>Generate the next action towards solving a tas...</td>\n",
       "      <td>look at inclined plane with a rubber surface [...</td>\n",
       "      <td>pour jug into flower pot 2 [SEP]</td>\n",
       "      <td>open cupboard [SEP]</td>\n",
       "      <td>pick up thermometer [SEP]</td>\n",
       "      <td>3</td>\n",
       "      <td>xxx</td>\n",
       "      <td>xxx</td>\n",
       "      <td>xxx</td>\n",
       "      <td>xxx</td>\n",
       "      <td>2</td>\n",
       "      <td>xxx</td>\n",
       "    </tr>\n",
       "    <tr>\n",
       "      <th>3</th>\n",
       "      <td>Generate the next action towards solving a tas...</td>\n",
       "      <td>look at inclined plane with a steel surface [SEP]</td>\n",
       "      <td>open cupboard [SEP]</td>\n",
       "      <td>look at inclined plane with a sandpaper surfac...</td>\n",
       "      <td>look at inclined plane with a sandpaper surfac...</td>\n",
       "      <td>1</td>\n",
       "      <td>xxx</td>\n",
       "      <td>xxx</td>\n",
       "      <td>xxx</td>\n",
       "      <td>xxx</td>\n",
       "      <td>3</td>\n",
       "      <td>xxx</td>\n",
       "    </tr>\n",
       "    <tr>\n",
       "      <th>4</th>\n",
       "      <td>Generate the next action towards solving a tas...</td>\n",
       "      <td>look at inclined plane with a plastic surface ...</td>\n",
       "      <td>look at inclined plane with a sandpaper surfac...</td>\n",
       "      <td>look at inclined plane with a brass surface [SEP]</td>\n",
       "      <td>pick up metal pot [SEP]</td>\n",
       "      <td>3</td>\n",
       "      <td>xxx</td>\n",
       "      <td>xxx</td>\n",
       "      <td>xxx</td>\n",
       "      <td>xxx</td>\n",
       "      <td>4</td>\n",
       "      <td>xxx</td>\n",
       "    </tr>\n",
       "  </tbody>\n",
       "</table>\n",
       "</div>"
      ],
      "text/plain": [
       "                                               sent2  \\\n",
       "0  Generate the next action towards solving a tas...   \n",
       "1  Generate the next action towards solving a tas...   \n",
       "2  Generate the next action towards solving a tas...   \n",
       "3  Generate the next action towards solving a tas...   \n",
       "4  Generate the next action towards solving a tas...   \n",
       "\n",
       "                                             ending0  \\\n",
       "0               examine stopwatch in inventory [SEP]   \n",
       "1                                go to kitchen [SEP]   \n",
       "2  look at inclined plane with a rubber surface [...   \n",
       "3  look at inclined plane with a steel surface [SEP]   \n",
       "4  look at inclined plane with a plastic surface ...   \n",
       "\n",
       "                                             ending1  \\\n",
       "0                         open door to kitchen [SEP]   \n",
       "1                         open door to outside [SEP]   \n",
       "2                   pour jug into flower pot 2 [SEP]   \n",
       "3                                open cupboard [SEP]   \n",
       "4  look at inclined plane with a sandpaper surfac...   \n",
       "\n",
       "                                             ending2  \\\n",
       "0  look at inclined plane with a sandpaper surfac...   \n",
       "1  move egg crocodile egg in inventory to orange ...   \n",
       "2                                open cupboard [SEP]   \n",
       "3  look at inclined plane with a sandpaper surfac...   \n",
       "4  look at inclined plane with a brass surface [SEP]   \n",
       "\n",
       "                                             ending3 label videoid  \\\n",
       "0  connect battery anode to orange wire terminal ...     1     xxx   \n",
       "1  look at inclined plane with a sandpaper surfac...     0     xxx   \n",
       "2                          pick up thermometer [SEP]     3     xxx   \n",
       "3  look at inclined plane with a sandpaper surfac...     1     xxx   \n",
       "4                            pick up metal pot [SEP]     3     xxx   \n",
       "\n",
       "  startphrase sent1 goldsource  fold_ind gold-source  \n",
       "0         xxx   xxx        xxx         0         xxx  \n",
       "1         xxx   xxx        xxx         1         xxx  \n",
       "2         xxx   xxx        xxx         2         xxx  \n",
       "3         xxx   xxx        xxx         3         xxx  \n",
       "4         xxx   xxx        xxx         4         xxx  "
      ]
     },
     "execution_count": 43,
     "metadata": {},
     "output_type": "execute_result"
    }
   ],
   "source": [
    "dftest['videoid'] = 'xxx'\n",
    "dftest['fold_ind'] = dftest.index\n",
    "dftest['startphrase'] = 'xxx'\n",
    "dftest['sent1'] = 'xxx'\n",
    "dftest['gold-source'] = 'xxx'\n",
    "dftest.head()"
   ]
  },
  {
   "cell_type": "code",
   "execution_count": 44,
   "id": "3e0bdb5c-72f6-4b90-986a-8e3f1170dfc8",
   "metadata": {
    "tags": []
   },
   "outputs": [
    {
     "data": {
      "text/plain": [
       "<bound method NDFrame.head of                                                     sent2  \\\n",
       "0       Generate the next action towards solving a tas...   \n",
       "1       Generate the next action towards solving a tas...   \n",
       "2       Generate the next action towards solving a tas...   \n",
       "3       Generate the next action towards solving a tas...   \n",
       "4       Generate the next action towards solving a tas...   \n",
       "...                                                   ...   \n",
       "133623  Generate the next action towards solving a tas...   \n",
       "133624  Generate the next action towards solving a tas...   \n",
       "133625  Generate the next action towards solving a tas...   \n",
       "133626  Generate the next action towards solving a tas...   \n",
       "133627  Generate the next action towards solving a tas...   \n",
       "\n",
       "                                                  ending0  \\\n",
       "0                    examine stopwatch in inventory [SEP]   \n",
       "1                                     go to kitchen [SEP]   \n",
       "2       look at inclined plane with a rubber surface [...   \n",
       "3       look at inclined plane with a steel surface [SEP]   \n",
       "4       look at inclined plane with a plastic surface ...   \n",
       "...                                                   ...   \n",
       "133623   pour cup containing mercury into metal pot [SEP]   \n",
       "133624  look at inclined plane with a copper surface [...   \n",
       "133625                              deactivate sink [SEP]   \n",
       "133626  look at inclined plane with a sandpaper surfac...   \n",
       "133627  look at inclined plane with a unknown material...   \n",
       "\n",
       "                                                  ending1  \\\n",
       "0                              open door to kitchen [SEP]   \n",
       "1                              open door to outside [SEP]   \n",
       "2                        pour jug into flower pot 2 [SEP]   \n",
       "3                                     open cupboard [SEP]   \n",
       "4       look at inclined plane with a sandpaper surfac...   \n",
       "...                                                   ...   \n",
       "133623                             move jug to sink [SEP]   \n",
       "133624  look at inclined plane with a sandpaper surfac...   \n",
       "133625                     look at inclined plane e [SEP]   \n",
       "133626                               go to workshop [SEP]   \n",
       "133627                                        wait1 [SEP]   \n",
       "\n",
       "                                                  ending2  \\\n",
       "0       look at inclined plane with a sandpaper surfac...   \n",
       "1       move egg crocodile egg in inventory to orange ...   \n",
       "2                                     open cupboard [SEP]   \n",
       "3       look at inclined plane with a sandpaper surfac...   \n",
       "4       look at inclined plane with a brass surface [SEP]   \n",
       "...                                                   ...   \n",
       "133623  look at inclined plane with a sandpaper surfac...   \n",
       "133624                   pour jug into flower pot 9 [SEP]   \n",
       "133625                              deactivate sink [SEP]   \n",
       "133626                          focus on orange box [SEP]   \n",
       "133627  look at inclined plane with a sandpaper surfac...   \n",
       "\n",
       "                                                  ending3 label videoid  \\\n",
       "0       connect battery anode to orange wire terminal ...     1     xxx   \n",
       "1       look at inclined plane with a sandpaper surfac...     0     xxx   \n",
       "2                               pick up thermometer [SEP]     3     xxx   \n",
       "3       look at inclined plane with a sandpaper surfac...     1     xxx   \n",
       "4                                 pick up metal pot [SEP]     3     xxx   \n",
       "...                                                   ...   ...     ...   \n",
       "133623    look at inclined plane with a tin surface [SEP]     1     xxx   \n",
       "133624              activate stopwatch in inventory [SEP]     2     xxx   \n",
       "133625  look at inclined plane with a sandpaper surfac...     0     xxx   \n",
       "133626  focus on inclined plane with a paper surface [...     2     xxx   \n",
       "133627                             move jug to sink [SEP]     1     xxx   \n",
       "\n",
       "       startphrase sent1 goldsource  fold_ind gold-source  \n",
       "0              xxx   xxx        xxx         0         xxx  \n",
       "1              xxx   xxx        xxx         1         xxx  \n",
       "2              xxx   xxx        xxx         2         xxx  \n",
       "3              xxx   xxx        xxx         3         xxx  \n",
       "4              xxx   xxx        xxx         4         xxx  \n",
       "...            ...   ...        ...       ...         ...  \n",
       "133623         xxx   xxx        xxx    133623         xxx  \n",
       "133624         xxx   xxx        xxx    133624         xxx  \n",
       "133625         xxx   xxx        xxx    133625         xxx  \n",
       "133626         xxx   xxx        xxx    133626         xxx  \n",
       "133627         xxx   xxx        xxx    133627         xxx  \n",
       "\n",
       "[133628 rows x 12 columns]>"
      ]
     },
     "execution_count": 44,
     "metadata": {},
     "output_type": "execute_result"
    }
   ],
   "source": [
    "dftest['fold_ind'] = dftest.index\n",
    "\n",
    "dftest.head"
   ]
  },
  {
   "cell_type": "code",
   "execution_count": 45,
   "id": "ce6b5d0f-edfd-468c-b8bc-437d7cf56493",
   "metadata": {
    "tags": []
   },
   "outputs": [
    {
     "data": {
      "text/html": [
       "<div>\n",
       "<style scoped>\n",
       "    .dataframe tbody tr th:only-of-type {\n",
       "        vertical-align: middle;\n",
       "    }\n",
       "\n",
       "    .dataframe tbody tr th {\n",
       "        vertical-align: top;\n",
       "    }\n",
       "\n",
       "    .dataframe thead th {\n",
       "        text-align: right;\n",
       "    }\n",
       "</style>\n",
       "<table border=\"1\" class=\"dataframe\">\n",
       "  <thead>\n",
       "    <tr style=\"text-align: right;\">\n",
       "      <th></th>\n",
       "      <th>videoid</th>\n",
       "      <th>fold_ind</th>\n",
       "      <th>startphrase</th>\n",
       "      <th>sent1</th>\n",
       "      <th>sent2</th>\n",
       "      <th>gold-source</th>\n",
       "      <th>ending0</th>\n",
       "      <th>ending1</th>\n",
       "      <th>ending2</th>\n",
       "      <th>ending3</th>\n",
       "      <th>label</th>\n",
       "    </tr>\n",
       "  </thead>\n",
       "  <tbody>\n",
       "    <tr>\n",
       "      <th>0</th>\n",
       "      <td>xxx</td>\n",
       "      <td>0</td>\n",
       "      <td>xxx</td>\n",
       "      <td>xxx</td>\n",
       "      <td>Generate the next action towards solving a tas...</td>\n",
       "      <td>xxx</td>\n",
       "      <td>examine stopwatch in inventory [SEP]</td>\n",
       "      <td>open door to kitchen [SEP]</td>\n",
       "      <td>look at inclined plane with a sandpaper surfac...</td>\n",
       "      <td>connect battery anode to orange wire terminal ...</td>\n",
       "      <td>1</td>\n",
       "    </tr>\n",
       "    <tr>\n",
       "      <th>1</th>\n",
       "      <td>xxx</td>\n",
       "      <td>1</td>\n",
       "      <td>xxx</td>\n",
       "      <td>xxx</td>\n",
       "      <td>Generate the next action towards solving a tas...</td>\n",
       "      <td>xxx</td>\n",
       "      <td>go to kitchen [SEP]</td>\n",
       "      <td>open door to outside [SEP]</td>\n",
       "      <td>move egg crocodile egg in inventory to orange ...</td>\n",
       "      <td>look at inclined plane with a sandpaper surfac...</td>\n",
       "      <td>0</td>\n",
       "    </tr>\n",
       "    <tr>\n",
       "      <th>2</th>\n",
       "      <td>xxx</td>\n",
       "      <td>2</td>\n",
       "      <td>xxx</td>\n",
       "      <td>xxx</td>\n",
       "      <td>Generate the next action towards solving a tas...</td>\n",
       "      <td>xxx</td>\n",
       "      <td>look at inclined plane with a rubber surface [...</td>\n",
       "      <td>pour jug into flower pot 2 [SEP]</td>\n",
       "      <td>open cupboard [SEP]</td>\n",
       "      <td>pick up thermometer [SEP]</td>\n",
       "      <td>3</td>\n",
       "    </tr>\n",
       "    <tr>\n",
       "      <th>3</th>\n",
       "      <td>xxx</td>\n",
       "      <td>3</td>\n",
       "      <td>xxx</td>\n",
       "      <td>xxx</td>\n",
       "      <td>Generate the next action towards solving a tas...</td>\n",
       "      <td>xxx</td>\n",
       "      <td>look at inclined plane with a steel surface [SEP]</td>\n",
       "      <td>open cupboard [SEP]</td>\n",
       "      <td>look at inclined plane with a sandpaper surfac...</td>\n",
       "      <td>look at inclined plane with a sandpaper surfac...</td>\n",
       "      <td>1</td>\n",
       "    </tr>\n",
       "    <tr>\n",
       "      <th>4</th>\n",
       "      <td>xxx</td>\n",
       "      <td>4</td>\n",
       "      <td>xxx</td>\n",
       "      <td>xxx</td>\n",
       "      <td>Generate the next action towards solving a tas...</td>\n",
       "      <td>xxx</td>\n",
       "      <td>look at inclined plane with a plastic surface ...</td>\n",
       "      <td>look at inclined plane with a sandpaper surfac...</td>\n",
       "      <td>look at inclined plane with a brass surface [SEP]</td>\n",
       "      <td>pick up metal pot [SEP]</td>\n",
       "      <td>3</td>\n",
       "    </tr>\n",
       "  </tbody>\n",
       "</table>\n",
       "</div>"
      ],
      "text/plain": [
       "  videoid  fold_ind startphrase sent1  \\\n",
       "0     xxx         0         xxx   xxx   \n",
       "1     xxx         1         xxx   xxx   \n",
       "2     xxx         2         xxx   xxx   \n",
       "3     xxx         3         xxx   xxx   \n",
       "4     xxx         4         xxx   xxx   \n",
       "\n",
       "                                               sent2 gold-source  \\\n",
       "0  Generate the next action towards solving a tas...         xxx   \n",
       "1  Generate the next action towards solving a tas...         xxx   \n",
       "2  Generate the next action towards solving a tas...         xxx   \n",
       "3  Generate the next action towards solving a tas...         xxx   \n",
       "4  Generate the next action towards solving a tas...         xxx   \n",
       "\n",
       "                                             ending0  \\\n",
       "0               examine stopwatch in inventory [SEP]   \n",
       "1                                go to kitchen [SEP]   \n",
       "2  look at inclined plane with a rubber surface [...   \n",
       "3  look at inclined plane with a steel surface [SEP]   \n",
       "4  look at inclined plane with a plastic surface ...   \n",
       "\n",
       "                                             ending1  \\\n",
       "0                         open door to kitchen [SEP]   \n",
       "1                         open door to outside [SEP]   \n",
       "2                   pour jug into flower pot 2 [SEP]   \n",
       "3                                open cupboard [SEP]   \n",
       "4  look at inclined plane with a sandpaper surfac...   \n",
       "\n",
       "                                             ending2  \\\n",
       "0  look at inclined plane with a sandpaper surfac...   \n",
       "1  move egg crocodile egg in inventory to orange ...   \n",
       "2                                open cupboard [SEP]   \n",
       "3  look at inclined plane with a sandpaper surfac...   \n",
       "4  look at inclined plane with a brass surface [SEP]   \n",
       "\n",
       "                                             ending3 label  \n",
       "0  connect battery anode to orange wire terminal ...     1  \n",
       "1  look at inclined plane with a sandpaper surfac...     0  \n",
       "2                          pick up thermometer [SEP]     3  \n",
       "3  look at inclined plane with a sandpaper surfac...     1  \n",
       "4                            pick up metal pot [SEP]     3  "
      ]
     },
     "execution_count": 45,
     "metadata": {},
     "output_type": "execute_result"
    }
   ],
   "source": [
    "dftest = dftest.reindex(columns=['videoid', 'fold_ind', 'startphrase', 'sent1', 'sent2','gold-source','ending0','ending1','ending2','ending3','label'])\n",
    "dftest.head()"
   ]
  },
  {
   "cell_type": "code",
   "execution_count": 21,
   "id": "38166af5-0367-45e1-ab06-9ae57019295b",
   "metadata": {
    "tags": []
   },
   "outputs": [],
   "source": [
    "#save sciworld data to multichoice format to train robert for intent dectection sciworld\n",
    "val_dataset = Dataset.from_pandas(validation_data)\n",
    "val_dataset.to_json(\"data/fireball_val.jsonl\")\n",
    "#save training mc data to json file\n",
    "df_train_mc.to_json('data/intent/sciworld_train_mc.jsonl')\n",
    "#save validation to json file\n",
    "val_train_mc.to_json('data/intent/sciworld_val_mc.jsonl')\n",
    "#save test mc data to json file\n",
    "df_mc.to_json('data/intent/sciworld_test_mc.jsonl')"
   ]
  },
  {
   "cell_type": "code",
   "execution_count": 50,
   "id": "b3486ad8-4594-400f-8c36-575e5082422c",
   "metadata": {
    "tags": []
   },
   "outputs": [],
   "source": [
    "#save train to csv\n",
    "dftrain = df_train_mc\n",
    "dftrain['videoid'] = 'xxx'\n",
    "dftrain['fold_ind'] = dftrain.index\n",
    "dftrain['startphrase'] = 'xxx'\n",
    "dftrain['sent1'] = 'xxx'\n",
    "dftrain['gold-source'] = 'xxx'\n",
    "dftrain = dftrain.reindex(columns=['videoid', 'fold_ind', 'startphrase', 'sent1', 'sent2','gold-source','ending0','ending1','ending2','ending3','label'])\n",
    "dftrain.to_csv('data/intent/train.csv')\n",
    "\n",
    "#save validation to csv file\n",
    "\n",
    "dfval = val_train_mc\n",
    "dfval['videoid'] = 'xxx'\n",
    "dfval['fold_ind'] = dfval.index\n",
    "dfval['startphrase'] = 'xxx'\n",
    "dfval['sent1'] = 'xxx'\n",
    "dfval['gold-source'] = 'xxx'\n",
    "dfval = dfval.reindex(columns=['videoid', 'fold_ind', 'startphrase', 'sent1', 'sent2','gold-source','ending0','ending1','ending2','ending3','label'])\n",
    "dfval.to_csv('data/intent/val.csv')\n",
    "\n",
    "#save test mc data to csv file\n",
    "dftest = df_mc\n",
    "dftest['videoid'] = 'xxx'\n",
    "dftest['fold_ind'] = dftest.index\n",
    "dftest['startphrase'] = 'xxx'\n",
    "dftest['sent1'] = 'xxx'\n",
    "dftest['gold-source'] = 'xxx'\n",
    "dftest = dftest.reindex(columns=['videoid', 'fold_ind', 'startphrase', 'sent1', 'sent2','gold-source','ending0','ending1','ending2','ending3','label'])\n",
    "dftest.to_csv('data/intent/test.csv')"
   ]
  },
  {
   "cell_type": "markdown",
   "id": "39b1f854-551b-4262-b720-e07b03361a0c",
   "metadata": {},
   "source": [
    "##derived from wikihow"
   ]
  },
  {
   "cell_type": "code",
   "execution_count": null,
   "id": "e89a0ed8-7336-4378-acb5-dadd4c8d176a",
   "metadata": {},
   "outputs": [],
   "source": [
    "import os\n",
    "\n",
    "# the benchmark task you want to train/evaluate on. 'goal': goal inference, 'step': step inference, 'order': step ordering.\n",
    "#task = ['sgd', 'snips', 'fb-en', 'fb-es', 'fb-th'][0]\n",
    "#task = 'intent'\n",
    "\n",
    "# the name of the model you want to train/evaluate on.\n",
    "#modelName = ['intent_enwh_rl', 'intent_enwh_xlmr', 'intent_eswh', 'intent_thwh', 'intent_snips_wh_id', 'intent_snips_id', 'intent_sgd_wh_id', 'intent_sgd_id', 'intent_fb-en_wh_id_rl', 'intent_fb-en_id_rl', 'intent_fb-es_wh_id', 'intent_fb-es_enwh_id', 'intent_fb-es_id', 'intent_fb-th_wh_id', 'intent_fb-th_enwh_id', 'intent_fb-th_id'][0]"
   ]
  },
  {
   "cell_type": "code",
   "execution_count": 28,
   "id": "1a508ee9-4012-4032-b611-4d1400ffbe7e",
   "metadata": {
    "tags": []
   },
   "outputs": [
    {
     "name": "stdout",
     "output_type": "stream",
     "text": [
      "run_multiple_choice.py\tutils_multiple_choice.py\n"
     ]
    }
   ],
   "source": [
    "#for convenience clone transformers libraries into the root of your project\n",
    "#git clone https://github.com/huggingface/transformers.git\n",
    "!ls transformers/examples/legacy/multiple_choice"
   ]
  },
  {
   "cell_type": "code",
   "execution_count": 29,
   "id": "5b50b98b-ee8a-442b-992f-45af0e54c573",
   "metadata": {
    "tags": []
   },
   "outputs": [
    {
     "name": "stdout",
     "output_type": "stream",
     "text": [
      "12/07/2024 16:53:18 - WARNING - __main__ - Process rank: 0, device: cuda:0, n_gpu: 1, distributed training: True, 16-bits training: False\n",
      "12/07/2024 16:53:18 - INFO - __main__ - Training/evaluation parameters TrainingArguments(\n",
      "_n_gpu=1,\n",
      "accelerator_config={'split_batches': False, 'dispatch_batches': None, 'even_batches': True, 'use_seedable_sampler': True, 'gradient_accumulation_kwargs': None},\n",
      "adafactor=False,\n",
      "adam_beta1=0.9,\n",
      "adam_beta2=0.999,\n",
      "adam_epsilon=1e-08,\n",
      "auto_find_batch_size=False,\n",
      "bf16=False,\n",
      "bf16_full_eval=False,\n",
      "data_seed=None,\n",
      "dataloader_drop_last=False,\n",
      "dataloader_num_workers=0,\n",
      "dataloader_persistent_workers=False,\n",
      "dataloader_pin_memory=True,\n",
      "dataloader_prefetch_factor=None,\n",
      "ddp_backend=None,\n",
      "ddp_broadcast_buffers=None,\n",
      "ddp_bucket_cap_mb=None,\n",
      "ddp_find_unused_parameters=None,\n",
      "ddp_timeout=1800,\n",
      "debug=[],\n",
      "deepspeed=None,\n",
      "disable_tqdm=False,\n",
      "dispatch_batches=None,\n",
      "do_eval=True,\n",
      "do_predict=False,\n",
      "do_train=False,\n",
      "eval_accumulation_steps=None,\n",
      "eval_delay=0,\n",
      "eval_do_concat_batches=True,\n",
      "eval_steps=None,\n",
      "evaluation_strategy=no,\n",
      "fp16=False,\n",
      "fp16_backend=auto,\n",
      "fp16_full_eval=False,\n",
      "fp16_opt_level=O1,\n",
      "fsdp=[],\n",
      "fsdp_config={'min_num_params': 0, 'xla': False, 'xla_fsdp_v2': False, 'xla_fsdp_grad_ckpt': False},\n",
      "fsdp_min_num_params=0,\n",
      "fsdp_transformer_layer_cls_to_wrap=None,\n",
      "full_determinism=False,\n",
      "gradient_accumulation_steps=1,\n",
      "gradient_checkpointing=False,\n",
      "gradient_checkpointing_kwargs=None,\n",
      "greater_is_better=None,\n",
      "group_by_length=False,\n",
      "half_precision_backend=auto,\n",
      "hub_always_push=False,\n",
      "hub_model_id=None,\n",
      "hub_private_repo=False,\n",
      "hub_strategy=every_save,\n",
      "hub_token=<HUB_TOKEN>,\n",
      "ignore_data_skip=False,\n",
      "include_inputs_for_metrics=False,\n",
      "include_num_input_tokens_seen=False,\n",
      "include_tokens_per_second=False,\n",
      "jit_mode_eval=False,\n",
      "label_names=None,\n",
      "label_smoothing_factor=0.0,\n",
      "learning_rate=5e-05,\n",
      "length_column_name=length,\n",
      "load_best_model_at_end=False,\n",
      "local_rank=0,\n",
      "log_level=passive,\n",
      "log_level_replica=warning,\n",
      "log_on_each_node=True,\n",
      "logging_dir=./output/intent_FacebookAI/roberta-large/runs/Dec07_16-53-18_2c6c9d770625,\n",
      "logging_first_step=False,\n",
      "logging_nan_inf_filter=True,\n",
      "logging_steps=500,\n",
      "logging_strategy=steps,\n",
      "lr_scheduler_kwargs={},\n",
      "lr_scheduler_type=linear,\n",
      "max_grad_norm=1.0,\n",
      "max_steps=-1,\n",
      "metric_for_best_model=None,\n",
      "mp_parameters=,\n",
      "neftune_noise_alpha=None,\n",
      "no_cuda=False,\n",
      "num_train_epochs=3.0,\n",
      "optim=adamw_torch,\n",
      "optim_args=None,\n",
      "optim_target_modules=None,\n",
      "output_dir=./output/intent_FacebookAI/roberta-large,\n",
      "overwrite_output_dir=True,\n",
      "past_index=-1,\n",
      "per_device_eval_batch_size=8,\n",
      "per_device_train_batch_size=8,\n",
      "prediction_loss_only=False,\n",
      "push_to_hub=False,\n",
      "push_to_hub_model_id=None,\n",
      "push_to_hub_organization=None,\n",
      "push_to_hub_token=<PUSH_TO_HUB_TOKEN>,\n",
      "ray_scope=last,\n",
      "remove_unused_columns=True,\n",
      "report_to=['tensorboard', 'wandb'],\n",
      "resume_from_checkpoint=None,\n",
      "run_name=./output/intent_FacebookAI/roberta-large,\n",
      "save_on_each_node=False,\n",
      "save_only_model=False,\n",
      "save_safetensors=True,\n",
      "save_steps=500,\n",
      "save_strategy=steps,\n",
      "save_total_limit=None,\n",
      "seed=42,\n",
      "skip_memory_metrics=True,\n",
      "split_batches=None,\n",
      "tf32=None,\n",
      "torch_compile=False,\n",
      "torch_compile_backend=None,\n",
      "torch_compile_mode=None,\n",
      "torchdynamo=None,\n",
      "tpu_metrics_debug=False,\n",
      "tpu_num_cores=None,\n",
      "use_cpu=False,\n",
      "use_ipex=False,\n",
      "use_legacy_prediction_loop=False,\n",
      "use_mps_device=False,\n",
      "warmup_ratio=0.0,\n",
      "warmup_steps=0,\n",
      "weight_decay=0.0,\n",
      ")\n",
      "/usr/local/lib/python3.10/dist-packages/huggingface_hub/file_download.py:797: FutureWarning: `resume_download` is deprecated and will be removed in version 1.0.0. Downloads always resume when possible. If you want to force a new download, use `force_download=True`.\n",
      "  warnings.warn(\n",
      "config.json: 100%|█████████████████████████████| 482/482 [00:00<00:00, 2.11MB/s]\n",
      "[INFO|configuration_utils.py:726] 2024-12-07 16:53:19,316 >> loading configuration file config.json from cache at /root/.cache/huggingface/hub/models--FacebookAI--roberta-large/snapshots/722cf37b1afa9454edce342e7895e588b6ff1d59/config.json\n",
      "[INFO|configuration_utils.py:789] 2024-12-07 16:53:19,391 >> Model config RobertaConfig {\n",
      "  \"_name_or_path\": \"FacebookAI/roberta-large\",\n",
      "  \"architectures\": [\n",
      "    \"RobertaForMaskedLM\"\n",
      "  ],\n",
      "  \"attention_probs_dropout_prob\": 0.1,\n",
      "  \"bos_token_id\": 0,\n",
      "  \"classifier_dropout\": null,\n",
      "  \"eos_token_id\": 2,\n",
      "  \"finetuning_task\": \"swag\",\n",
      "  \"hidden_act\": \"gelu\",\n",
      "  \"hidden_dropout_prob\": 0.1,\n",
      "  \"hidden_size\": 1024,\n",
      "  \"id2label\": {\n",
      "    \"0\": \"LABEL_0\",\n",
      "    \"1\": \"LABEL_1\",\n",
      "    \"2\": \"LABEL_2\",\n",
      "    \"3\": \"LABEL_3\"\n",
      "  },\n",
      "  \"initializer_range\": 0.02,\n",
      "  \"intermediate_size\": 4096,\n",
      "  \"label2id\": {\n",
      "    \"LABEL_0\": 0,\n",
      "    \"LABEL_1\": 1,\n",
      "    \"LABEL_2\": 2,\n",
      "    \"LABEL_3\": 3\n",
      "  },\n",
      "  \"layer_norm_eps\": 1e-05,\n",
      "  \"max_position_embeddings\": 514,\n",
      "  \"model_type\": \"roberta\",\n",
      "  \"num_attention_heads\": 16,\n",
      "  \"num_hidden_layers\": 24,\n",
      "  \"pad_token_id\": 1,\n",
      "  \"position_embedding_type\": \"absolute\",\n",
      "  \"transformers_version\": \"4.40.2\",\n",
      "  \"type_vocab_size\": 1,\n",
      "  \"use_cache\": true,\n",
      "  \"vocab_size\": 50265\n",
      "}\n",
      "\n",
      "tokenizer_config.json: 100%|██████████████████| 25.0/25.0 [00:00<00:00, 129kB/s]\n",
      "[INFO|configuration_utils.py:726] 2024-12-07 16:53:19,541 >> loading configuration file config.json from cache at /root/.cache/huggingface/hub/models--FacebookAI--roberta-large/snapshots/722cf37b1afa9454edce342e7895e588b6ff1d59/config.json\n",
      "[INFO|configuration_utils.py:789] 2024-12-07 16:53:19,542 >> Model config RobertaConfig {\n",
      "  \"_name_or_path\": \"FacebookAI/roberta-large\",\n",
      "  \"architectures\": [\n",
      "    \"RobertaForMaskedLM\"\n",
      "  ],\n",
      "  \"attention_probs_dropout_prob\": 0.1,\n",
      "  \"bos_token_id\": 0,\n",
      "  \"classifier_dropout\": null,\n",
      "  \"eos_token_id\": 2,\n",
      "  \"hidden_act\": \"gelu\",\n",
      "  \"hidden_dropout_prob\": 0.1,\n",
      "  \"hidden_size\": 1024,\n",
      "  \"initializer_range\": 0.02,\n",
      "  \"intermediate_size\": 4096,\n",
      "  \"layer_norm_eps\": 1e-05,\n",
      "  \"max_position_embeddings\": 514,\n",
      "  \"model_type\": \"roberta\",\n",
      "  \"num_attention_heads\": 16,\n",
      "  \"num_hidden_layers\": 24,\n",
      "  \"pad_token_id\": 1,\n",
      "  \"position_embedding_type\": \"absolute\",\n",
      "  \"transformers_version\": \"4.40.2\",\n",
      "  \"type_vocab_size\": 1,\n",
      "  \"use_cache\": true,\n",
      "  \"vocab_size\": 50265\n",
      "}\n",
      "\n",
      "vocab.json: 100%|████████████████████████████| 899k/899k [00:00<00:00, 4.65MB/s]\n",
      "merges.txt: 100%|████████████████████████████| 456k/456k [00:00<00:00, 3.68MB/s]\n",
      "tokenizer.json: 100%|██████████████████████| 1.36M/1.36M [00:00<00:00, 26.8MB/s]\n",
      "[INFO|tokenization_utils_base.py:2087] 2024-12-07 16:53:20,467 >> loading file vocab.json from cache at /root/.cache/huggingface/hub/models--FacebookAI--roberta-large/snapshots/722cf37b1afa9454edce342e7895e588b6ff1d59/vocab.json\n",
      "[INFO|tokenization_utils_base.py:2087] 2024-12-07 16:53:20,468 >> loading file merges.txt from cache at /root/.cache/huggingface/hub/models--FacebookAI--roberta-large/snapshots/722cf37b1afa9454edce342e7895e588b6ff1d59/merges.txt\n",
      "[INFO|tokenization_utils_base.py:2087] 2024-12-07 16:53:20,468 >> loading file tokenizer.json from cache at /root/.cache/huggingface/hub/models--FacebookAI--roberta-large/snapshots/722cf37b1afa9454edce342e7895e588b6ff1d59/tokenizer.json\n",
      "[INFO|tokenization_utils_base.py:2087] 2024-12-07 16:53:20,468 >> loading file added_tokens.json from cache at None\n",
      "[INFO|tokenization_utils_base.py:2087] 2024-12-07 16:53:20,468 >> loading file special_tokens_map.json from cache at None\n",
      "[INFO|tokenization_utils_base.py:2087] 2024-12-07 16:53:20,468 >> loading file tokenizer_config.json from cache at /root/.cache/huggingface/hub/models--FacebookAI--roberta-large/snapshots/722cf37b1afa9454edce342e7895e588b6ff1d59/tokenizer_config.json\n",
      "[INFO|configuration_utils.py:726] 2024-12-07 16:53:20,468 >> loading configuration file config.json from cache at /root/.cache/huggingface/hub/models--FacebookAI--roberta-large/snapshots/722cf37b1afa9454edce342e7895e588b6ff1d59/config.json\n",
      "[INFO|configuration_utils.py:789] 2024-12-07 16:53:20,470 >> Model config RobertaConfig {\n",
      "  \"_name_or_path\": \"FacebookAI/roberta-large\",\n",
      "  \"architectures\": [\n",
      "    \"RobertaForMaskedLM\"\n",
      "  ],\n",
      "  \"attention_probs_dropout_prob\": 0.1,\n",
      "  \"bos_token_id\": 0,\n",
      "  \"classifier_dropout\": null,\n",
      "  \"eos_token_id\": 2,\n",
      "  \"hidden_act\": \"gelu\",\n",
      "  \"hidden_dropout_prob\": 0.1,\n",
      "  \"hidden_size\": 1024,\n",
      "  \"initializer_range\": 0.02,\n",
      "  \"intermediate_size\": 4096,\n",
      "  \"layer_norm_eps\": 1e-05,\n",
      "  \"max_position_embeddings\": 514,\n",
      "  \"model_type\": \"roberta\",\n",
      "  \"num_attention_heads\": 16,\n",
      "  \"num_hidden_layers\": 24,\n",
      "  \"pad_token_id\": 1,\n",
      "  \"position_embedding_type\": \"absolute\",\n",
      "  \"transformers_version\": \"4.40.2\",\n",
      "  \"type_vocab_size\": 1,\n",
      "  \"use_cache\": true,\n",
      "  \"vocab_size\": 50265\n",
      "}\n",
      "\n",
      "model.safetensors: 100%|███████████████████| 1.42G/1.42G [00:28<00:00, 50.0MB/s]\n",
      "[INFO|modeling_utils.py:3429] 2024-12-07 16:53:49,549 >> loading weights file model.safetensors from cache at /root/.cache/huggingface/hub/models--FacebookAI--roberta-large/snapshots/722cf37b1afa9454edce342e7895e588b6ff1d59/model.safetensors\n",
      "[INFO|modeling_utils.py:4160] 2024-12-07 16:53:51,128 >> Some weights of the model checkpoint at FacebookAI/roberta-large were not used when initializing RobertaForMultipleChoice: ['lm_head.bias', 'lm_head.dense.bias', 'lm_head.dense.weight', 'lm_head.layer_norm.bias', 'lm_head.layer_norm.weight']\n",
      "- This IS expected if you are initializing RobertaForMultipleChoice from the checkpoint of a model trained on another task or with another architecture (e.g. initializing a BertForSequenceClassification model from a BertForPreTraining model).\n",
      "- This IS NOT expected if you are initializing RobertaForMultipleChoice from the checkpoint of a model that you expect to be exactly identical (initializing a BertForSequenceClassification model from a BertForSequenceClassification model).\n",
      "[WARNING|modeling_utils.py:4172] 2024-12-07 16:53:51,128 >> Some weights of RobertaForMultipleChoice were not initialized from the model checkpoint at FacebookAI/roberta-large and are newly initialized: ['classifier.bias', 'classifier.weight', 'roberta.pooler.dense.bias', 'roberta.pooler.dense.weight']\n",
      "You should probably TRAIN this model on a down-stream task to be able to use it for predictions and inference.\n",
      "12/07/2024 16:53:51 - INFO - utils_multiple_choice - Creating features from dataset file at ./data/intent/\n",
      "12/07/2024 16:53:51 - INFO - utils_multiple_choice - LOOKING AT ./data/intent/ dev\n",
      "Traceback (most recent call last):\n",
      "  File \"/workspace/nvdata/code/storytelling/dragonfire/calm-scienceworld/transformers/examples/legacy/multiple_choice/run_multiple_choice.py\", line 244, in <module>\n",
      "    main()\n",
      "  File \"/workspace/nvdata/code/storytelling/dragonfire/calm-scienceworld/transformers/examples/legacy/multiple_choice/run_multiple_choice.py\", line 178, in main\n",
      "    MultipleChoiceDataset(\n",
      "  File \"/workspace/nvdata/code/storytelling/dragonfire/calm-scienceworld/transformers/examples/legacy/multiple_choice/utils_multiple_choice.py\", line 121, in __init__\n",
      "    examples = processor.get_dev_examples(data_dir)\n",
      "  File \"/workspace/nvdata/code/storytelling/dragonfire/calm-scienceworld/transformers/examples/legacy/multiple_choice/utils_multiple_choice.py\", line 375, in get_dev_examples\n",
      "    return self._create_examples(self._read_csv(os.path.join(data_dir, \"val.csv\")), \"dev\")\n",
      "  File \"/workspace/nvdata/code/storytelling/dragonfire/calm-scienceworld/transformers/examples/legacy/multiple_choice/utils_multiple_choice.py\", line 399, in _create_examples\n",
      "    examples = [\n",
      "  File \"/workspace/nvdata/code/storytelling/dragonfire/calm-scienceworld/transformers/examples/legacy/multiple_choice/utils_multiple_choice.py\", line 406, in <listcomp>\n",
      "    endings=[line[7], line[8], line[9], line[10]],\n",
      "IndexError: list index out of range\n"
     ]
    }
   ],
   "source": [
    "#use RoBERTa-large\n",
    "import os\n",
    "task = 'intent'\n",
    "modelName = 'FacebookAI/roberta-large'\n",
    "#os.environ['MODEL_NAME'] = f'zharry29/{modelName}'\n",
    "os.environ['MODEL_NAME'] = 'FacebookAI/roberta-large'\n",
    "os.environ['DATA_DIR'] = f'./data/{task}/'\n",
    "os.environ['OUTPUT_DIR'] = f'./output/{task}_{modelName}'\n",
    "\n",
    "!python transformers/examples/legacy/multiple_choice/run_multiple_choice.py \\\n",
    "  --task_name swag \\\n",
    "  --model_name_or_path $MODEL_NAME \\\n",
    "  --do_eval \\\n",
    "  --data_dir $DATA_DIR \\\n",
    "  --max_seq_length 200 \\\n",
    "  --per_gpu_eval_batch_size=16 \\\n",
    "  --output_dir $OUTPUT_DIR \\\n",
    "  --overwrite_output"
   ]
  },
  {
   "cell_type": "code",
   "execution_count": null,
   "id": "6f7e9793-0218-4d7c-8d3c-81877cbc07e7",
   "metadata": {},
   "outputs": [],
   "source": []
  },
  {
   "cell_type": "markdown",
   "id": "8fed5465",
   "metadata": {
    "tags": []
   },
   "source": [
    "### Evaluation Inference \n",
    "\n",
    "We wil check how well the model predicts the next action on a subset of the test data."
   ]
  },
  {
   "cell_type": "code",
   "execution_count": 51,
   "id": "0bd9d602",
   "metadata": {
    "tags": []
   },
   "outputs": [],
   "source": [
    "# Create a smaller test subset for a quick eval demonstration.\n",
    "\n",
    "!head -n 128 ./data/sciworld_test1_set.jsonl > ./data/sciworld_test1_set-n128.jsonl"
   ]
  },
  {
   "cell_type": "markdown",
   "id": "513cd732",
   "metadata": {},
   "source": [
    "### Step 4: Check the model accuracy\n",
    "\n",
    "Now that the results are in, let's read the results and calculate the accuracy on the question title generation task.\n",
    "Let's take a look at one of the predictions in the generated output file. The `pred` key indicates what was generated."
   ]
  },
  {
   "cell_type": "markdown",
   "id": "61364ecb-be71-4baa-b1c8-4e166064de0a",
   "metadata": {},
   "source": [
    "The predictions for the the subset of the test dataset is output to sciworld_lora_test_sci_inputs_preds_labels.jsonl file. The end of the file contains a prediction and a label. The prediction is the LLM prediction of the action given the game state, an dthe label is the ground truth value.  You can see the above row acurately predicts the action."
   ]
  },
  {
   "cell_type": "markdown",
   "id": "4e88f3c9",
   "metadata": {
    "tags": []
   },
   "source": [
    "For evaluating this task, we will use [ROUGE](https://en.wikipedia.org/wiki/ROUGE_(metric)).  It measures overlap of ngrams, and a higher score is better. While it's not perfect and it misses capturing the semantics of the prediction, it is a popular metric in academia and industry for evaluating such systems. \n",
    "\n",
    "The following method uses the `rouge_score` library to implement scoring. It will report `ROUGE_{1/2/L/Lsum}` metrics."
   ]
  },
  {
   "cell_type": "code",
   "execution_count": 57,
   "id": "c4aa9631",
   "metadata": {
    "tags": []
   },
   "outputs": [],
   "source": [
    "def compute_rouge(input_file: str) -> dict:\n",
    "    ROUGE_KEYS = [\"rouge1\", \"rouge2\", \"rougeL\", \"rougeLsum\"]\n",
    "    scorer = rouge_scorer.RougeScorer(ROUGE_KEYS, use_stemmer=True)\n",
    "    aggregator = scoring.BootstrapAggregator()\n",
    "    lines = [json.loads(line) for line in open(input_file)]\n",
    "    num_response_words = []\n",
    "    num_ref_words = []\n",
    "    for idx, line in enumerate(lines):\n",
    "        prompt = line['input']\n",
    "        response = line['pred']\n",
    "        answer = line['label']\n",
    "        scores = scorer.score(response, answer)\n",
    "        aggregator.add_scores(scores)\n",
    "        num_response_words.append(len(response.split()))\n",
    "        num_ref_words.append(len(answer.split()))\n",
    "\n",
    "    result = aggregator.aggregate()\n",
    "    rouge_scores = {k: round(v.mid.fmeasure * 100, 4) for k, v in result.items()}\n",
    "    print(rouge_scores)\n",
    "    print(f\"Average and stddev of response length: {np.mean(num_response_words):.2f}, {np.std(num_response_words):.2f}\")\n",
    "    print(f\"Average and stddev of ref length: {np.mean(num_ref_words):.2f}, {np.std(num_ref_words):.2f}\")\n",
    "\n",
    "    return rouge_scores"
   ]
  },
  {
   "cell_type": "code",
   "execution_count": 58,
   "id": "41c661d5",
   "metadata": {
    "tags": []
   },
   "outputs": [
    {
     "name": "stdout",
     "output_type": "stream",
     "text": [
      "{'rouge1': 78.2972, 'rouge2': 65.9794, 'rougeL': 78.3603, 'rougeLsum': 78.2974}\n",
      "Average and stddev of response length: 4.92, 1.89\n",
      "Average and stddev of ref length: 5.20, 1.81\n"
     ]
    },
    {
     "data": {
      "text/plain": [
       "{'rouge1': 78.2972, 'rouge2': 65.9794, 'rougeL': 78.3603, 'rougeLsum': 78.2974}"
      ]
     },
     "execution_count": 58,
     "metadata": {},
     "output_type": "execute_result"
    }
   ],
   "source": [
    "compute_rouge(\"./sciworld_lora_test_sci_inputs_preds_labels.jsonl\")"
   ]
  },
  {
   "cell_type": "markdown",
   "id": "27f1b7fb-be37-4b25-9167-93ab12b6a403",
   "metadata": {},
   "source": [
    "#### see inferencing noteoook for deploying model with fine tuned weights"
   ]
  },
  {
   "cell_type": "code",
   "execution_count": null,
   "id": "3ab64aa3-52f2-461c-b54d-8256ece47816",
   "metadata": {},
   "outputs": [],
   "source": []
  }
 ],
 "metadata": {
  "kernelspec": {
   "display_name": "Python 3 (ipykernel)",
   "language": "python",
   "name": "python3"
  },
  "language_info": {
   "codemirror_mode": {
    "name": "ipython",
    "version": 3
   },
   "file_extension": ".py",
   "mimetype": "text/x-python",
   "name": "python",
   "nbconvert_exporter": "python",
   "pygments_lexer": "ipython3",
   "version": "3.10.12"
  }
 },
 "nbformat": 4,
 "nbformat_minor": 5
}
